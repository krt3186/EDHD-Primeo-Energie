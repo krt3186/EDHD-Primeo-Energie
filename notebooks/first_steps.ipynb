{
 "cells": [
  {
   "cell_type": "markdown",
   "id": "bcacbd7a-db25-4aad-98e3-b3d68b57d8a8",
   "metadata": {},
   "source": [
    "### Data Import"
   ]
  },
  {
   "cell_type": "code",
   "execution_count": 1,
   "id": "cfda9e86-9fc0-44fb-a55f-8dd929ec351a",
   "metadata": {
    "editable": true,
    "slideshow": {
     "slide_type": ""
    },
    "tags": []
   },
   "outputs": [
    {
     "name": "stdout",
     "output_type": "stream",
     "text": [
      "                       date    t_2m_C  global_rad_W  wind_speed_10m_ms  \\\n",
      "0 2019-12-31 23:45:00+00:00 -2.600000           1.0           0.400000   \n",
      "1 2020-01-01 00:00:00+00:00 -2.433333           1.0           0.566667   \n",
      "2 2020-01-01 00:15:00+00:00 -2.166667           1.0           0.633333   \n",
      "3 2020-01-01 00:30:00+00:00 -2.133333           1.0           0.800000   \n",
      "4 2020-01-01 00:45:00+00:00 -2.000000           1.0           0.933333   \n",
      "\n",
      "   snow_depth_cm station  \n",
      "0            1.0     TAE  \n",
      "1            1.0     TAE  \n",
      "2            1.0     TAE  \n",
      "3            1.0     TAE  \n",
      "4            1.0     TAE  \n"
     ]
    }
   ],
   "source": [
    "import pandas as pd\n",
    "\n",
    "# Meteo Swiss Data\n",
    "file_path = \"/home/renku/work/edhd2025-data-set/edhd2025/mswiss_data.pkl\"\n",
    "df_mswiss = pd.read_pickle(file_path)\n",
    "print(df.head())\n",
    "\n",
    "# Meteo Swiss Data: Stations\n",
    "file_path = \"/home/renku/work/edhd2025-data-set/edhd2025/mswiss_data.pkl\"\n",
    "df_stations = pd.read_pickle(file_path)\n"
   ]
  },
  {
   "cell_type": "code",
   "execution_count": 2,
   "id": "5a7414da-95e0-4c7c-b973-55545f992721",
   "metadata": {},
   "outputs": [
    {
     "name": "stdout",
     "output_type": "stream",
     "text": [
      "                              date     t_2m_C  global_rad_W  \\\n",
      "0        2019-12-31 23:45:00+00:00  -2.600000           1.0   \n",
      "1        2020-01-01 00:00:00+00:00  -2.433333           1.0   \n",
      "2        2020-01-01 00:15:00+00:00  -2.166667           1.0   \n",
      "3        2020-01-01 00:30:00+00:00  -2.133333           1.0   \n",
      "4        2020-01-01 00:45:00+00:00  -2.000000           1.0   \n",
      "...                            ...        ...           ...   \n",
      "31210525 2025-08-26 22:45:00+00:00  18.400000           1.0   \n",
      "31210526 2025-08-26 23:00:00+00:00  18.233333           1.0   \n",
      "31210527 2025-08-26 23:15:00+00:00  18.033333           1.0   \n",
      "31210528 2025-08-26 23:30:00+00:00  18.333333           1.0   \n",
      "31210529 2025-08-26 23:45:00+00:00  18.400000           1.0   \n",
      "\n",
      "          wind_speed_10m_ms  snow_depth_cm station  \n",
      "0                  0.400000            1.0     TAE  \n",
      "1                  0.566667            1.0     TAE  \n",
      "2                  0.633333            1.0     TAE  \n",
      "3                  0.800000            1.0     TAE  \n",
      "4                  0.933333            1.0     TAE  \n",
      "...                     ...            ...     ...  \n",
      "31210525           1.533333            0.0     KLO  \n",
      "31210526           1.033333            0.0     KLO  \n",
      "31210527           2.033333            0.0     KLO  \n",
      "31210528           2.300000            0.0     KLO  \n",
      "31210529           2.100000            0.0     KLO  \n",
      "\n",
      "[31210530 rows x 6 columns]\n"
     ]
    }
   ],
   "source": [
    "print(df)"
   ]
  },
  {
   "cell_type": "code",
   "execution_count": null,
   "id": "6e9487d9-cbe3-4c2a-bb95-42fa740eb276",
   "metadata": {},
   "outputs": [],
   "source": []
  }
 ],
 "metadata": {
  "kernelspec": {
   "display_name": "Python3",
   "language": "python",
   "name": "python3"
  },
  "language_info": {
   "codemirror_mode": {
    "name": "ipython",
    "version": 3
   },
   "file_extension": ".py",
   "mimetype": "text/x-python",
   "name": "python",
   "nbconvert_exporter": "python",
   "pygments_lexer": "ipython3",
   "version": "3.13.1"
  }
 },
 "nbformat": 4,
 "nbformat_minor": 5
}
